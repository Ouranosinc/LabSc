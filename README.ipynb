{
 "cells": [
  {
   "cell_type": "markdown",
   "id": "0dd91dd2-a3c2-4cf2-a875-ca91638afec4",
   "metadata": {
    "tags": []
   },
   "source": [
    "# Librarie d'analyses de base en science du climat (LabSc)\n",
    "\n",
    "**Objectifs**\n",
    "\n",
    "L'objectif principal de *LabSc* est de construire une collection d'analyses élémentaires aux projets, à la recherche et développement, ainsi qu'à la synthèse de l'information climatique. Le projet reste pour le moment interne à l'équipe SCSC, mais pourrait être rendu public lorsqu'il aura atteint un certain niveau de maturité. \n",
    "\n",
    "Plus spécifiquement, *LabSc* vise à:   \n",
    "- Démocratiser et partager des analyses au-delà des projets et des équipes en favorisant la collaboration et les échanges.\n",
    "- Former les employés et renfocer leurs capacités sur les meilleures pratiques autant aux niveaux scientifique que technique.\n",
    "- Rendre disponibles des blocs de code pouvant être réutilisés dans différents contextes.\n",
    "- Structurer les analyses de l'équipe en une base de connaissance pour la mémoire à long terme.\n",
    "\n",
    "**Interface**\n",
    "\n",
    "Pour le moment l'interface est une [table des matières Markdown](index.ipynb) avec des liens vers les notebooks et autres ressources. Éventuellement, nous pourrions utiliser une plateforme plus sophistiquée (p. ex. [Quarto](https://quarto.org/)) permettant d'organiser dynamiquement les notebooks à partir de leur contenu.\n",
    "\n",
    "**Comment contribuer**\n",
    "\n",
    "*Étapes à suivre:*  \n",
    "1. Créer un notebook en se référant au canevas donné [ici](labsc-notebooks/canevas_notebook.ipynb).\n",
    "2. Mettre à jour de la [table des matières](index.ipynb).\n",
    "3. ... TODO\n",
    "\n",
    "\n",
    "*Règles d'or:*\n",
    "- Utilisation du français pour les textes. \n",
    "- Commenter le code (français ou anglais).\n",
    "- Utilisation de fonctions de base en Python, comme xarray pour la plupart des calculs et xclim lorsque des calculs d'indicateurs sont nécessaires. \n",
    "- Donner un titre explicatif.\n"
   ]
  },
  {
   "cell_type": "code",
   "execution_count": null,
   "id": "a78c98d0-d365-4aa1-84ce-a0fb8bd6ebe4",
   "metadata": {},
   "outputs": [],
   "source": []
  }
 ],
 "metadata": {
  "kernelspec": {
   "display_name": "Python 3 (ipykernel)",
   "language": "python",
   "name": "python3"
  },
  "language_info": {
   "codemirror_mode": {
    "name": "ipython",
    "version": 3
   },
   "file_extension": ".py",
   "mimetype": "text/x-python",
   "name": "python",
   "nbconvert_exporter": "python",
   "pygments_lexer": "ipython3",
   "version": "3.11.6"
  }
 },
 "nbformat": 4,
 "nbformat_minor": 5
}
