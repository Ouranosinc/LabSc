{
 "cells": [
  {
   "cell_type": "markdown",
   "id": "0dd91dd2-a3c2-4cf2-a875-ca91638afec4",
   "metadata": {
    "tags": []
   },
   "source": [
    "# Librarie d'analyses de base en science du climat (LabSc)\n",
    "\n",
    "## Objectifs\n",
    "\n",
    "L'objectif principal de *LabSc* est de construire une collection d'analyses élémentaires pour soutenir la recherche et le développement en sciences du climat. \n",
    "\n",
    "Plus spécifiquement, *LabSc* vise à:   \n",
    "- Démocratiser des méthodes d'analyses\n",
    "- Clarifier et uniformiser des méthodologies\n",
    "- Former des scientifiques du climat et renforcer leurs capacités\n",
    "- Favoriser les échanges et les collaborations\n",
    "\n",
    "## Environnement d'utilisation\n",
    "\n",
    "- Ce projet est développé pour une utilisation directe sur la plateforme [PAVICS](https://pavics.ouranos.ca/).\n",
    "- Un version récente de LabSc est disponible sur PAVICS [ici](https://pavics.ouranos.ca/jupyter/hub/user-redirect/lab/tree/public/leduc-public/LabSc)\n",
    "- La [table des matières](index.ipynb) est le point de départ pour naviguer entre les notebooks.\n",
    "\n",
    "## Règles d'or pour le développement des notebooks\n",
    "\n",
    "- S'assurer que la méthodologie soit transparente en utilisant des fonctions de bas niveau, par exemple:\n",
    "  - xarray pour les calculs de base, xclim pour le calcul d'indicateurs complexes. \n",
    "- Utilisation du français dans les textes. \n",
    "- Commenter le code.\n",
    "\n",
    "<!--\n",
    "## Comment réutiliser ou citer un notebook\n",
    "TODO\n",
    "-->\n",
    "\n",
    "## Comment contribuer\n",
    "\n",
    "### Membres:\n",
    "1. Cloner le répertoire et créer une nouvelle branche.\n",
    "2. Créer un nouveau notebook à partir du [canevas](labsc-notebooks/canevas_notebook.ipynb).\n",
    "3. Mettre à jour la table des matières.\n",
    "4. Pousser la branche et créer une proposition de fusion (*pull request*).\n",
    "\n",
    "### Contributeurs externes:\n",
    "\n",
    "1. Dupliquer le dépôt dans son compte GitHub\n",
    "2. Cloner le répertoire et créer une nouvelle branche.\n",
    "3. Créer un nouveau notebook à partir du [canevas](labsc-notebooks/canevas_notebook.ipynb).\n",
    "4. Mettre à jour la table des matières.\n",
    "5. Envoyer une proposition de fusion depuis son compte.\n",
    "\n"
   ]
  },
  {
   "cell_type": "code",
   "execution_count": null,
   "id": "a78c98d0-d365-4aa1-84ce-a0fb8bd6ebe4",
   "metadata": {},
   "outputs": [],
   "source": []
  }
 ],
 "metadata": {
  "kernelspec": {
   "display_name": "Python 3 (ipykernel)",
   "language": "python",
   "name": "python3"
  },
  "language_info": {
   "codemirror_mode": {
    "name": "ipython",
    "version": 3
   },
   "file_extension": ".py",
   "mimetype": "text/x-python",
   "name": "python",
   "nbconvert_exporter": "python",
   "pygments_lexer": "ipython3",
   "version": "3.11.10"
  }
 },
 "nbformat": 4,
 "nbformat_minor": 5
}
