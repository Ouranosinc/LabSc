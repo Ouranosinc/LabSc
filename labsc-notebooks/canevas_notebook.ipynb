{
 "cells": [
  {
   "cell_type": "markdown",
   "id": "d5e42cde-ae72-481d-a2d2-1c2dc118b830",
   "metadata": {},
   "source": [
    "[<-- retour à l'index](../index.ipynb)\n",
    "\n",
    "# Un titre explicatif du notebook\n",
    "Auteur(s):   \n",
    "Date:  \n",
    "\n",
    "**Description**  \n",
    "Description de la méthodologie et de l'utilisation du script.\n",
    "\n",
    "**Résultats (*facultatif*)**  \n",
    "Une brève analyse des résultats obtenus.\n",
    "\n",
    "**Références (*facultatif*)**  \n",
    "P.ex. Articles pertinents ou liens vers d'autres notebooks sur PAVICS ou sur le web.\n",
    "\n",
    "© Copyright Ouranos Inc. and {author} {year}<br>\n",
    "This work is licensed under [Creative Commons Attribution 4.0 International](http://creativecommons.org/licenses/by/4.0/)"
   ]
  },
  {
   "cell_type": "code",
   "execution_count": 2,
   "id": "baf8dea4-ed7b-49e8-8216-ec0565d01ecf",
   "metadata": {
    "tags": []
   },
   "outputs": [],
   "source": [
    "# Bloc de code"
   ]
  },
  {
   "cell_type": "code",
   "execution_count": 1,
   "id": "b353134a-6b84-415a-9313-42740ac4122d",
   "metadata": {
    "tags": []
   },
   "outputs": [],
   "source": [
    "# Bloc de code"
   ]
  },
  {
   "cell_type": "code",
   "execution_count": null,
   "id": "d665e004-a60d-4d05-bc40-b19df47c7a88",
   "metadata": {},
   "outputs": [],
   "source": [
    "# ..."
   ]
  }
 ],
 "metadata": {
  "kernelspec": {
   "display_name": "Python 3 (ipykernel)",
   "language": "python",
   "name": "python3"
  },
  "language_info": {
   "codemirror_mode": {
    "name": "ipython",
    "version": 3
   },
   "file_extension": ".py",
   "mimetype": "text/x-python",
   "name": "python",
   "nbconvert_exporter": "python",
   "pygments_lexer": "ipython3",
   "version": "3.11.6"
  }
 },
 "nbformat": 4,
 "nbformat_minor": 5
}
