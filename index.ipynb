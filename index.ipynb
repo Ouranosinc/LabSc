{
 "cells": [
  {
   "cell_type": "markdown",
   "id": "1bcbb3c9-4cba-4c73-8ad8-79c85ebf170b",
   "metadata": {
    "tags": []
   },
   "source": [
    "# Librarie d'analyses de base en science du climat (LabSc)\n",
    " **Table des matières**\n",
    " \n",
    "## 1. Climat historique\n",
    "\n",
    "### 1.1 Moyennes\n",
    "- [Moyennes climatiques aux échelles annuelle, saisonnières et mensuelles pour la réanalyse ERA5¶](labsc-notebooks/ERA5_moyclim_ann_sais_mens.ipynb)\n",
    "\n",
    "### 1.2 Variabilité\n",
    "\n",
    "### 1.3 Tendances\n",
    "\n",
    "## 2. Projections climatiques\n",
    "### 2.1 Changements dans les moyennes\n",
    "### 2.2 Changements dans la variabilité\n",
    "### 2.3 Changements dans les extrêmes"
   ]
  },
  {
   "cell_type": "code",
   "execution_count": null,
   "id": "eb8bbc46-0f70-48fc-aecb-854806fce993",
   "metadata": {},
   "outputs": [],
   "source": []
  },
  {
   "cell_type": "code",
   "execution_count": null,
   "id": "bedeac72-0c06-44ef-b5ef-c2158db0404b",
   "metadata": {},
   "outputs": [],
   "source": []
  }
 ],
 "metadata": {
  "kernelspec": {
   "display_name": "Python 3 (ipykernel)",
   "language": "python",
   "name": "python3"
  },
  "language_info": {
   "codemirror_mode": {
    "name": "ipython",
    "version": 3
   },
   "file_extension": ".py",
   "mimetype": "text/x-python",
   "name": "python",
   "nbconvert_exporter": "python",
   "pygments_lexer": "ipython3",
   "version": "3.11.6"
  }
 },
 "nbformat": 4,
 "nbformat_minor": 5
}
